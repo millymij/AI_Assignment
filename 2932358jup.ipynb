{
 "cells": [
  {
   "cell_type": "markdown",
   "metadata": {
    "tags": []
   },
   "source": [
    "### University of Stirling\n",
    "#### Computing Science and Mathematics\n",
    "#### CSCU9YE - Artificial Intelligence\n",
    "\n",
    "# Coursework: The Multi-dimensional Knapsack Problem"
   ]
  },
  {
   "cell_type": "markdown",
   "metadata": {},
   "source": [
    "# Student Id: 2932358"
   ]
  },
  {
   "cell_type": "markdown",
   "metadata": {
    "tags": []
   },
   "source": [
    "## Aquiring the problem data\n",
    "\n",
    "-  This function reads the data of a given problem instance\n",
    "-  It returns four variables in the the following order, using the variable names as in the mathematical formulation described in the coursework\n",
    "    - *n*: number of items, \n",
    "    - *m*: number of constraints\n",
    "    - *p*: one dimensional numpy array with the profit coefficients fore ach item \n",
    "    - *r*: two dimensional numpy array with the resource coefficients for each item on each constraint/resource\n",
    "    - *b*: one dimensional numpy array with the constraints right-hand size, that is the bounds or capacities \n"
   ]
  },
  {
   "cell_type": "code",
   "execution_count": 1,
   "metadata": {
    "tags": []
   },
   "outputs": [],
   "source": [
    "import numpy as np\n",
    "\n",
    "def read_multi_knapsack(fname):\n",
    "    \"\"\"\n",
    "    Reads the data of a multi-knapsack instance\n",
    "\n",
    "    :param fname: file name with instance data\n",
    "    :return: n, m, p, r and b (as described above)\n",
    "    \"\"\" \n",
    "    profits = []\n",
    "    with open(fname, 'r') as kfile:\n",
    "        lines = kfile.readlines()\n",
    "        \n",
    "    # convert m,n  to integer varaibles   \n",
    "    n, m  = [int(d) for d in lines[0].split()]   # convert string data to integers\n",
    "        \n",
    "    input_line_cnt = 1    # input lines index after first line\n",
    "    p = np.empty(0, dtype=np.int64)\n",
    "    while p.size < n:\n",
    "        d = np.loadtxt(lines[input_line_cnt].split(),\n",
    "                       delimiter=\" \", dtype=np.int64)\n",
    "        p = np.append(p, d)\n",
    "        input_line_cnt += 1\n",
    "\n",
    "    r = np.empty((0, n), dtype=np.int64)\n",
    "    for i in range(m):\n",
    "        lin = np.empty(0, dtype=np.int64)\n",
    "        while lin.size < n:\n",
    "            d = np.loadtxt(lines[input_line_cnt].split(),\n",
    "                           delimiter=\" \", dtype=np.int64)\n",
    "            lin = np.append(lin, d)\n",
    "            input_line_cnt += 1\n",
    "        r = np.vstack((r, lin))\n",
    "\n",
    "    # get the capacities (max of one line space separated integer values)\n",
    "    b = np.loadtxt(lines[input_line_cnt].split(),\n",
    "                     delimiter=\" \", dtype=np.int64)\n",
    "\n",
    "    return  n, m, p, r, b, \n"
   ]
  },
  {
   "cell_type": "code",
   "execution_count": 2,
   "metadata": {
    "scrolled": true
   },
   "outputs": [
    {
     "name": "stdout",
     "output_type": "stream",
     "text": [
      "Instance Data:\n",
      "n: 28.  m: 2\n",
      "Profits: [ 1898   440 22507   270 14148  3100  4650 30800   615  4975  1160  4225\n",
      "   510 11880   479   440   490   330   110   560 24355  2885 11748  4550\n",
      "   750  3720  1950 10500]\n",
      "Resources: [[ 45   0  85 150  65  95  30   0 170   0  40  25  20   0   0  25   0   0\n",
      "   25   0 165   0  85   0   0   0   0 100]\n",
      " [ 30  20 125   5  80  25  35  73  12  15  15  40   5  10  10  12  10   9\n",
      "    0  20  60  40  50  36  49  40  19 150]]\n",
      "Capacities: [500 500]\n"
     ]
    }
   ],
   "source": [
    "## Reading data from a file\n",
    "\n",
    "data_file_name = \"multi_knap_n28_m2.txt\"        \n",
    "\n",
    "n, m, profits, res, cap = read_multi_knapsack(data_file_name)\n",
    "\n",
    "print(\"Instance Data:\")\n",
    "print(f\"n: {n}.  m: {m}\")\n",
    "print(f\"Profits: {profits}\")\n",
    "print(f\"Resources: {res}\")\n",
    "print(f\"Capacities: {cap}\")\n"
   ]
  },
  {
   "cell_type": "markdown",
   "metadata": {},
   "source": [
    "## Part 1:\n",
    "First, we will need to generate a valid solution, which means checking if the combination of items selected  doesn't exceed the capacity for each knapsack. To check its validity, we created the function ‘is_valid_solution’."
   ]
  },
  {
   "cell_type": "code",
   "execution_count": 3,
   "metadata": {},
   "outputs": [],
   "source": [
    "def is_valid_solution(solution, res, cap):\n",
    "    \"\"\"\n",
    "    Checks if the provided solution is valid\n",
    "\n",
    "    solution: A binary list representing the selected items\n",
    "    res: matrix representing the resource consumption of each item in each knapsack\n",
    "    cap: array representing the capacities of the knapsacks\n",
    "    return: True if the solution is valid\n",
    "    \"\"\"\n",
    "    total_consumption = np.dot(res, solution)\n",
    "    for i in range(len(cap)):\n",
    "        if total_consumption[i] > cap[i]:\n",
    "            return False\n",
    "\n",
    "    return True"
   ]
  },
  {
   "cell_type": "markdown",
   "metadata": {},
   "source": [
    "Then, we'll need to generate a solution, which will be a binary list of size n, to represent all the items to include in the knapsacks. The choice of selected elements will be random, based on a fixed probability of 60% for 0s and 40% for 1s. The function will also check whether the solution generated is valid. If not, it will continue generating solutions until one is found."
   ]
  },
  {
   "cell_type": "code",
   "execution_count": 4,
   "metadata": {},
   "outputs": [],
   "source": [
    "import random as rnd\n",
    "\n",
    "def generate_valid_random_solution(n, res, cap):\n",
    "    \"\"\"\n",
    "    Generates a random valid solution\n",
    "    Keeps generating solutions until a valid one is found\n",
    "    \n",
    "    n: items\n",
    "    res: resource consumption matrix\n",
    "    cap: capacities of the knapsacks\n",
    "    return: list representing the selected items that form a valid solution\n",
    "    \"\"\"\n",
    "    while True:\n",
    "        solution = rnd.choices([0, 1], weights=[40, 60], k=n)\n",
    "        if is_valid_solution(solution, res, cap):\n",
    "            return solution\n"
   ]
  },
  {
   "cell_type": "markdown",
   "metadata": {},
   "source": [
    "To evaluate the value (fitness) of a given solution, we need to take all the items selected and add their vaues together."
   ]
  },
  {
   "cell_type": "code",
   "execution_count": 5,
   "metadata": {},
   "outputs": [],
   "source": [
    "def evaluate_value(solution):\n",
    "    \"\"\"\n",
    "    Evaluate the quality of a solution for the knapsack problem\n",
    "    \n",
    "    solution: list representing the solution\n",
    "    return: tuple of the total value \n",
    "    \"\"\"\n",
    "    total_value = 0\n",
    "    for item, selected in enumerate(solution):\n",
    "        if selected:\n",
    "            total_value += profits[item]\n",
    "                \n",
    "    return total_value"
   ]
  },
  {
   "cell_type": "code",
   "execution_count": 6,
   "metadata": {},
   "outputs": [
    {
     "name": "stdout",
     "output_type": "stream",
     "text": [
      "value: 46058\n"
     ]
    }
   ],
   "source": [
    "initial_solution = generate_valid_random_solution(n, res, cap)\n",
    "v_solution = evaluate_value(initial_solution)\n",
    "print(f\"value: {v_solution}\")"
   ]
  },
  {
   "cell_type": "markdown",
   "metadata": {},
   "source": [
    "A function similar to evaluate_value is added, so that it returns not just the value for a solution, but also the weights (usages) for each knapsack. This will later be used for analytic purposes."
   ]
  },
  {
   "cell_type": "code",
   "execution_count": 7,
   "metadata": {},
   "outputs": [],
   "source": [
    "def evaluate_solution(sol):\n",
    "    \"\"\"\n",
    "    Evaluate the quality of a solution for the knapsack problem\n",
    "    \n",
    "    sol: list representing the solution \n",
    "    return: tuple of the total value and a list of total weights for each constraint of the solution\n",
    "    \"\"\"\n",
    "    total_value = 0\n",
    "    total_weights = [0] * m\n",
    "    \n",
    "    for item, selected in enumerate(sol):\n",
    "        if selected:\n",
    "            total_value += profits[item]\n",
    "            for knapsack in range(m):\n",
    "                total_weights[knapsack] += res[knapsack][item]\n",
    "                \n",
    "    return total_value, total_weights"
   ]
  },
  {
   "cell_type": "code",
   "execution_count": 8,
   "metadata": {},
   "outputs": [
    {
     "name": "stdout",
     "output_type": "stream",
     "text": [
      "Solution Value:  46058 \n",
      "Solution Weights: [470, 448]\n"
     ]
    }
   ],
   "source": [
    "sol_value, total_usages = evaluate_solution(initial_solution)\n",
    "print(f\"Solution Value:  {sol_value} \\nSolution Weights: {total_usages}\")"
   ]
  },
  {
   "cell_type": "markdown",
   "metadata": {},
   "source": [
    "To generate a neighbour solution, we take the solution we have just generated and flip a random bit, so that if the bit is 0 becomes 1 and viceversa."
   ]
  },
  {
   "cell_type": "code",
   "execution_count": 9,
   "metadata": {},
   "outputs": [],
   "source": [
    "def generate_neighbour(sol):   \n",
    "    \"\"\" \n",
    "    Generation of a solution similar to the one passed as parameter, flipping a random bit\n",
    "    \n",
    "    sol: solution as binary list\n",
    "    return:  neighbour solution \n",
    "    \"\"\"\n",
    "    neig = sol.copy()                 \n",
    "    i = rnd.randint(0,n-1)\n",
    "    # flipping the bit\n",
    "    neig[i] = 0 if sol[i]== 1 else 1\n",
    "    return neig"
   ]
  },
  {
   "cell_type": "code",
   "execution_count": 10,
   "metadata": {},
   "outputs": [
    {
     "name": "stdout",
     "output_type": "stream",
     "text": [
      "neighbour_value: 60206\n"
     ]
    }
   ],
   "source": [
    "neighbour_solution = generate_neighbour(initial_solution)\n",
    "neighbour_value = evaluate_value(neighbour_solution)\n",
    "print(f\"neighbour_value: {neighbour_value}\")"
   ]
  },
  {
   "cell_type": "markdown",
   "metadata": {},
   "source": [
    "Now we can put all the functions together in a hill_climber algorithm, that for a specified amount of iterations will create and evaluate a neighbour of a given solution. Then, will compare the values, keeping just the best one found."
   ]
  },
  {
   "cell_type": "code",
   "execution_count": 11,
   "metadata": {},
   "outputs": [],
   "source": [
    "def hill_climber(initial_solution, res, cap, num_iterations=2000):\n",
    "    \"\"\"\n",
    "    Hill climbing algorithm implementation\n",
    "\n",
    "    initial_solution: list representing the initial solution\n",
    "    res: consumption matrix\n",
    "    cap: capacities of the knapsacks\n",
    "    num_iterations: iterations to run the algorithm\n",
    "    return: best solution found and its value\n",
    "    \"\"\"\n",
    "    total_values = []\n",
    "    iteration_numbers = []\n",
    "    current_solution = initial_solution\n",
    "    current_value = evaluate_value(current_solution)\n",
    "\n",
    "    for iteration in range(num_iterations):\n",
    "        new_solution = generate_neighbour(current_solution)\n",
    "        \n",
    "        # check if the new solution is valid\n",
    "        if not is_valid_solution(new_solution, res, cap):\n",
    "            continue\n",
    "\n",
    "        new_value = evaluate_value(new_solution)\n",
    "\n",
    "        # if the new solution is better, update the current solution and value\n",
    "        if new_value > current_value:\n",
    "            current_solution = new_solution\n",
    "            current_value = new_value\n",
    "            total_values.append(current_value)\n",
    "            iteration_numbers.append(iteration)\n",
    "\n",
    "    return current_solution, current_value, total_values, iteration_numbers\n"
   ]
  },
  {
   "cell_type": "markdown",
   "metadata": {},
   "source": [
    "We included the results of the hill-climber algorithm in the 'Numerical Matrix' part below."
   ]
  },
  {
   "cell_type": "markdown",
   "metadata": {},
   "source": [
    "## Numerical Metrics\n",
    "\n",
    "In this part, we printed some of the values to have a closer look at how the algorithm worked. For instance, we displayed the best value found with our hill_climber algorithm and the total value for each knapsack.\n",
    "Then, we printed also the amount of items selected and a detailed resource usge for each knapsack, showing the percentage between the total capacity of a knapsack and the resources that were actually used."
   ]
  },
  {
   "cell_type": "code",
   "execution_count": 12,
   "metadata": {},
   "outputs": [
    {
     "name": "stdout",
     "output_type": "stream",
     "text": [
      "best value: 59297\n",
      "total values: [46168, 46608, 47087, 58967, 59297]\n",
      "Number of Items Selected: 18 out of 28\n",
      "Knapsack 1: Used 470 out of 500 (94.00%)\n",
      "Knapsack 2: Used 448 out of 500 (89.60%)\n"
     ]
    }
   ],
   "source": [
    "best_solution, best_value, total_values, iteration_numbers = hill_climber(initial_solution, res, cap, num_iterations=1000)\n",
    "print(f\"best value: {best_value}\")\n",
    "print(f\"total values: {total_values}\")\n",
    "\n",
    "# showing how many of the items were selected\n",
    "print(f\"Number of Items Selected: {sum(best_solution)} out of {n}\")\n",
    "\n",
    "# resource usage for each knapsack\n",
    "for i in range(m):\n",
    "    usage_percentage = (total_usages[i] / cap[i]) * 100 if cap[i] > 0 else 0\n",
    "    print(f\"Knapsack {i+1}: Used {total_usages[i]} out of {cap[i]} ({usage_percentage:.2f}%)\")"
   ]
  },
  {
   "cell_type": "markdown",
   "metadata": {},
   "source": [
    "## Visual Plot - Total Values of Selected Items over Iterations"
   ]
  },
  {
   "cell_type": "code",
   "execution_count": 13,
   "metadata": {
    "scrolled": true
   },
   "outputs": [
    {
     "data": {
      "image/png": "[encoded data removed]",
      "text/plain": [
       "<Figure size 640x480 with 1 Axes>"
      ]
     },
     "metadata": {},
     "output_type": "display_data"
    }
   ],
   "source": [
    "import matplotlib.pyplot as plt\n",
    "\n",
    "# plotting improvements against iteration numbers\n",
    "plt.plot(iteration_numbers, total_values, marker='o', linestyle='-', color='b', label='Fitness Over Iterations')\n",
    "\n",
    "# annotating points with value\n",
    "for i, txt in enumerate(total_values):\n",
    "    plt.annotate(txt, (iteration_numbers[i], total_values[i]))\n",
    "\n",
    "plt.xlabel('Iteration')\n",
    "plt.ylabel('Best Value Found')\n",
    "plt.title('Best Values Found Over Iterations')\n",
    "plt.legend()\n",
    "plt.grid(True)\n",
    "plt.show()\n",
    "\n"
   ]
  },
  {
   "cell_type": "markdown",
   "metadata": {},
   "source": [
    "The plot shows how many times a better solution was found and recorded for the given iterations. Observing the plot, we can se how the hill-climber moves from one solution to a better one in an increasing trend, improving the best value recorded and discarding solutions with a worse value."
   ]
  },
  {
   "cell_type": "markdown",
   "metadata": {},
   "source": [
    "## Part 2"
   ]
  },
  {
   "cell_type": "markdown",
   "metadata": {},
   "source": [
    "### Genetic Algorithm\n",
    "\n",
    "To improve the chances of finding a better solution, an approach for this optimisation/search problem could be using a genetic algorithm."
   ]
  },
  {
   "cell_type": "code",
   "execution_count": 14,
   "metadata": {},
   "outputs": [
    {
     "name": "stdout",
     "output_type": "stream",
     "text": [
      "Instance Data:\n",
      "n: 200.  m: 25\n",
      "Profits: [ 51  79  73  70  53  53  51  84  72  68  89  65  62  96  76  78  94  63\n",
      "  82  61  66  55  60  63  50  63  91  65  64  55  80  74  95  96  56  90\n",
      "  91  60  59  68  80  82 100  70  52  79  62  51  78  95  56  81  75  50\n",
      "  80  84  83  92  54  72  57  87  84  53  94  75  79  63  84  57  60  92\n",
      "  92  60  53  72  82  69  84  88  58  70  85  82  55  60  93  87  95  81\n",
      "  67  53  65  76  69  92  71  76  76  61  75  70  91  95  60  70  50  91\n",
      "  65  60  98  55  84  75  84  94  63  98  78  64  85  53  79  65  66  99\n",
      "  77  75  78  71  90  56  98  65  75  85  90  54  68  54  65  95  83  64\n",
      "  87  63  79  83  70  61  80  51  93  55  62  63  83 100  75  55  91  53\n",
      "  79  71  61  91  76  50  93  89  57  77  60  60  54  93  53  70  69  74\n",
      "  84  82  75  90  66  70  95  91 100  98  51  71  54  87  67  73  65  80\n",
      "  74  56]\n",
      "Resources: [[ 9  8 11 ... 13 14  6]\n",
      " [ 9  8 15 ...  9 15 11]\n",
      " [ 5  8 12 ...  8 11  6]\n",
      " ...\n",
      " [ 8 14  9 ... 10 13  7]\n",
      " [ 6 11  9 ... 14  9  8]\n",
      " [ 6  8 11 ...  9  9  9]]\n",
      "Capacities: [1114 1083 1084 1105 1101 1089 1098 1113 1107 1130 1061 1118 1118 1067\n",
      " 1101 1093 1117 1094 1088 1087 1079 1122 1096 1116 1097]\n"
     ]
    }
   ],
   "source": [
    "## Reading data from the larger dataset file, same value names\n",
    "\n",
    "data_file_name = \"multi_knap_n200_m25.txt\"        \n",
    "\n",
    "n, m, profits, res, cap = read_multi_knapsack(data_file_name)\n",
    "\n",
    "print(\"Instance Data:\")\n",
    "print(f\"n: {n}.  m: {m}\")\n",
    "print(f\"Profits: {profits}\")\n",
    "print(f\"Resources: {res}\")\n",
    "print(f\"Capacities: {cap}\")"
   ]
  },
  {
   "cell_type": "markdown",
   "metadata": {},
   "source": [
    "First, we need to create an individual, with the same logic used to generate a random solution. However, this time we decided to start from random solution generated using a greedy approach. In this way, the algorithm will prioritize selecting the items that have a higher value.\n",
    "Note: This function always picks the next best items based on our sorting. This is simple and effective,\n",
    "but it sometimes gets stuck in 'local optima', where it finds a good solution but not necessarily the best possible one."
   ]
  },
  {
   "cell_type": "code",
   "execution_count": 15,
   "metadata": {},
   "outputs": [],
   "source": [
    "def greedy_random_solution(n, m, profits, res, cap):\n",
    "    \"\"\"\n",
    "    create a valid, random solution usng a greedy approach\n",
    "\n",
    "    n: items\n",
    "    m: constraints\n",
    "    res: consumption matrix\n",
    "    cap: capacities of the knapsacks\n",
    "    return: random, greedy solution as a binay list\n",
    "    \"\"\"\n",
    "    \n",
    "    ratios = []\n",
    "\n",
    "    # calculating the average ratio, while ensuring we avoid division\n",
    "    # by 0, in which case we use the profit value\n",
    "    for j in range(n):\n",
    "        average_ratio = np.mean([profits[j] / res[i][j] if res[i][j] != 0 else profits[j] for i in range(m)])\n",
    "        ratios.append((average_ratio, j))\n",
    "\n",
    "    # sorting items by average ratio in descending order, prioritising items with a higher profit-to-resource ratio\n",
    "    sorted_items = sorted(ratios, key=lambda x: x[0], reverse=True)\n",
    "    solution = [0] * n\n",
    "    current_cap = cap.copy()\n",
    "\n",
    "    # start of insertion of items\n",
    "    for _, item_index in sorted_items:\n",
    "        item_fits = True\n",
    "        \n",
    "        # checking if item fits in each knapsack without exceeding the capacity\n",
    "        for i in range(m):\n",
    "            if res[i][item_index] > current_cap[i]:\n",
    "                item_fits = False\n",
    "                break\n",
    "                \n",
    "        # item fits, add it to solution and update current capacities        \n",
    "        if item_fits:\n",
    "            solution[item_index] = 1\n",
    "            for i in range(m):\n",
    "                current_cap[i] -= res[i][item_index]\n",
    "                \n",
    "    return solution"
   ]
  },
  {
   "cell_type": "code",
   "execution_count": 16,
   "metadata": {},
   "outputs": [],
   "source": [
    "def create_individual(n, res, cap):\n",
    "    \"\"\"\n",
    "    create a valid solution\n",
    "\n",
    "    n: items.\n",
    "    res: consumption matrix.\n",
    "    cap: capacities of the knapsacks.\n",
    "    return: binary list representing the individual.\n",
    "    \"\"\"\n",
    "    return greedy_random_solution(n, m, profits, res, cap)"
   ]
  },
  {
   "cell_type": "code",
   "execution_count": 17,
   "metadata": {},
   "outputs": [],
   "source": [
    "individual_solution = create_individual(n, res, cap)"
   ]
  },
  {
   "cell_type": "markdown",
   "metadata": {},
   "source": [
    "Then, we create a group of radom solutions of a given size with the method 'create_population'."
   ]
  },
  {
   "cell_type": "code",
   "execution_count": 18,
   "metadata": {},
   "outputs": [],
   "source": [
    "def create_population(population_size, n, res, cap):\n",
    "    \"\"\"\n",
    "    Create a population\n",
    "\n",
    "    population_size: The size of the population.\n",
    "    n: Number of items.\n",
    "    res: Resource consumption matrix.\n",
    "    cap: Capacities of the knapsacks.\n",
    "    return: A list of individuals forming the population.\n",
    "    \"\"\"\n",
    "    return [create_individual(n, res, cap) for _ in range(population_size)]"
   ]
  },
  {
   "cell_type": "code",
   "execution_count": 19,
   "metadata": {},
   "outputs": [],
   "source": [
    "population_size = 100\n",
    "initial_population = create_population(population_size, n, res, cap)"
   ]
  },
  {
   "cell_type": "markdown",
   "metadata": {},
   "source": [
    "A function that mutates a given solution based on a mutation rate. The mutation rate is adapted (increased) if the solution doesn't improve over a certain amount of generations. In this way, we have more chances to excape local optima."
   ]
  },
  {
   "cell_type": "code",
   "execution_count": 20,
   "metadata": {},
   "outputs": [],
   "source": [
    "def mutate(solution, base_mutation_rate, generation_counter, improvement_threshold):\n",
    "    \"\"\"\n",
    "    mutate a solution using an adaptive mutation rate,\n",
    "    which increases if there hasn't been an improvement for a certain number of generations.\n",
    "    \n",
    "    solution: list representing the solution \n",
    "    base_mutation_rate: base probability of a gene (element of the solution list) undergoing mutation\n",
    "    generation_counter: number of generations that have passed without significant improvement\n",
    "    improvement_threshold: number of generations to wait before considering increasing the mutation rate\n",
    "\n",
    "    return: mutant solution\n",
    "    \"\"\"\n",
    "    # determining the mutation rate: if the number of generations without improvement exceeds the threshold, \n",
    "    # the mutation rate is doubled. In any case, it's kept at 1.0 to avoid probabilities greater than 100%.\n",
    "    if generation_counter > improvement_threshold:\n",
    "        mutation_rate = min(1.0, base_mutation_rate * 2)\n",
    "    else:\n",
    "        mutation_rate = base_mutation_rate\n",
    "    \n",
    "    mutated_solution = solution.copy()\n",
    "\n",
    "    # iteratation over each gene and decide randomly whether to mutate it\n",
    "    for i in range(len(mutated_solution)):\n",
    "        if rnd.random() < mutation_rate:\n",
    "            mutated_solution[i] = 1 if mutated_solution[i] == 0 else 0\n",
    "\n",
    "    return mutated_solution\n"
   ]
  },
  {
   "cell_type": "code",
   "execution_count": 21,
   "metadata": {},
   "outputs": [
    {
     "name": "stdout",
     "output_type": "stream",
     "text": [
      "mutated_individual: [0, 1, 0, 0, 1, 1, 1, 1, 1, 1, 0, 0, 1, 0, 0, 1, 0, 1, 1, 1, 0, 0, 0, 0, 1, 0, 0, 1, 0, 1, 1, 1, 0, 1, 1, 0, 1, 0, 0, 0, 0, 1, 1, 0, 0, 1, 0, 1, 1, 0, 0, 1, 1, 0, 0, 1, 1, 1, 0, 1, 1, 0, 0, 0, 1, 1, 0, 0, 1, 0, 1, 0, 0, 1, 1, 1, 0, 0, 0, 1, 0, 0, 1, 0, 1, 0, 1, 1, 0, 0, 1, 0, 1, 1, 0, 0, 1, 0, 1, 0, 1, 1, 0, 1, 1, 1, 1, 0, 0, 0, 0, 0, 0, 0, 0, 0, 1, 0, 1, 1, 1, 1, 1, 0, 1, 0, 0, 1, 1, 0, 1, 0, 0, 0, 0, 0, 0, 1, 1, 0, 1, 1, 1, 1, 0, 0, 0, 0, 1, 1, 0, 1, 0, 1, 0, 1, 0, 1, 0, 1, 0, 1, 1, 0, 0, 1, 0, 1, 0, 1, 1, 1, 1, 0, 0, 1, 1, 0, 1, 1, 1, 0, 1, 1, 0, 1, 0, 0, 1, 0, 0, 1, 1, 0, 1, 1, 1, 1, 1, 1]\n",
      "mutant_value: 7407\n",
      "False\n"
     ]
    }
   ],
   "source": [
    "mutated_solution = mutate(individual_solution, 0.1, 0, 2) # params hardcoded to compile\n",
    "mutant_value = evaluate_value(mutated_solution)\n",
    "print(f\"mutated_individual: {mutated_solution}\")\n",
    "print(f\"mutant_value: {mutant_value}\")\n",
    "print(is_valid_solution(mutated_solution, res, cap))"
   ]
  },
  {
   "cell_type": "markdown",
   "metadata": {},
   "source": [
    "The tournament selection method will choose a random subset of the population and the individual with the highest value will be selected for being parent in the next generation.\n",
    "Some parameters are added: k = number of individuals chosen at each tournament, where a larger k means more competition. Then, we added an additional (optional) parameter to further control the competitiveness of the tournament, 'selection_pressure', which regulates how the algorithm favours the fittest solutions when selecting candiates for the tournament. It will multiplied by K, so that for instance if K is large, weaker solutions will have less chance to be considered against the strong ones."
   ]
  },
  {
   "cell_type": "code",
   "execution_count": 22,
   "metadata": {},
   "outputs": [],
   "source": [
    "selection_pressure = 3.0\n",
    "k = 3\n",
    "\n",
    "def tournament_selection(population, k, selection_pressure):\n",
    "    \"\"\"\"\n",
    "    Selects an individual from the population using tournament selection\n",
    "    It works selecting a random group and pick the best out of them.\n",
    "    \n",
    "    population: List of individuals\n",
    "    k: Number of individuals to be selected for the tournament\n",
    "    selection_pressure: Controls the selection aggressiveness\n",
    "    return: The best individual of the tournament\n",
    "    \"\"\"\n",
    "    # calculate the number of solutions to be considered in the tournament\n",
    "    # multiplying k and pressure of selection\n",
    "    actual_tournament_size = int(k * selection_pressure)\n",
    "\n",
    "    # randomly select a subset of individuals for the tournament\n",
    "    tournament = rnd.choices(population, k=actual_tournament_size)\n",
    "    # finally find and return the individual with the highest fitness value in the tournament\n",
    "    best_individual = max(tournament, key=lambda population: population[1])\n",
    "    \n",
    "    return best_individual"
   ]
  },
  {
   "cell_type": "code",
   "execution_count": 23,
   "metadata": {},
   "outputs": [
    {
     "name": "stdout",
     "output_type": "stream",
     "text": [
      "tournament_sol: [0, 1, 0, 0, 1, 0, 1, 1, 0, 1, 0, 0, 1, 0, 0, 1, 0, 1, 1, 1, 0, 0, 0, 0, 1, 0, 0, 1, 0, 1, 1, 1, 0, 1, 1, 0, 1, 0, 0, 0, 0, 0, 1, 0, 1, 1, 1, 1, 1, 0, 0, 1, 1, 0, 0, 0, 1, 1, 0, 1, 1, 0, 0, 0, 1, 1, 0, 0, 1, 0, 0, 0, 0, 1, 1, 1, 0, 0, 0, 1, 0, 0, 1, 0, 1, 1, 1, 0, 0, 1, 1, 0, 1, 1, 0, 0, 1, 0, 1, 0, 1, 1, 0, 1, 1, 1, 1, 0, 0, 0, 0, 1, 0, 0, 0, 0, 1, 0, 1, 1, 1, 1, 1, 0, 1, 0, 1, 1, 1, 1, 1, 0, 0, 0, 0, 0, 0, 1, 1, 0, 1, 1, 1, 1, 0, 0, 0, 0, 1, 1, 0, 1, 0, 1, 0, 1, 0, 1, 0, 1, 0, 1, 1, 0, 0, 0, 0, 1, 0, 1, 1, 1, 1, 0, 0, 1, 1, 0, 1, 1, 1, 0, 1, 1, 1, 1, 0, 0, 1, 0, 0, 1, 1, 0, 1, 1, 1, 1, 1, 1]\n",
      "tournament_value: 7402\n"
     ]
    }
   ],
   "source": [
    "tournament_sol = tournament_selection(initial_population, k, selection_pressure)\n",
    "tournament_value = evaluate_value(tournament_sol)\n",
    "print(f\"tournament_sol: {tournament_sol}\")\n",
    "print(f\"tournament_value: {tournament_value}\")"
   ]
  },
  {
   "cell_type": "markdown",
   "metadata": {},
   "source": [
    "To ensure variety in the solutions, we will perform a multiple point crossover over the two parents solution.\n",
    "The mixing is done at a specified number of crossover points, where segments\n",
    "of the parents are alternately switched to form new offspring solutions."
   ]
  },
  {
   "cell_type": "code",
   "execution_count": 24,
   "metadata": {},
   "outputs": [],
   "source": [
    "def multipoint_crossover(parent1, parent2, num_points):\n",
    "    \"\"\"\n",
    "    performs a multipoint crossover between two parent solutions.\n",
    "\n",
    "    parent1: first parent solution\n",
    "    parent2: second parent solution\n",
    "    num_points: number of points at which crossover occurs\n",
    "\n",
    "    return: Two children solutions, each a mix of the parents\n",
    "    \"\"\"\n",
    "    solution_length = len(parent1)\n",
    "    # limiting the number of crossover points to be less than the solution length\n",
    "    num_points = min(num_points, solution_length - 1)\n",
    "    \n",
    "    # unique crossover points selection\n",
    "    points = sorted(rnd.sample(range(1, solution_length), num_points))\n",
    "    child1, child2 = parent1[:], parent2[:]\n",
    "\n",
    "    # crossover\n",
    "    for i, point in enumerate(points):\n",
    "        # segments swap from parents based on odd or even index\n",
    "        if i % 2 == 0:\n",
    "            child1[point:], child2[point:] = parent2[point:], parent1[point:]\n",
    "        else:\n",
    "            child1[point:], child2[point:] = parent1[point:], parent2[point:]\n",
    "\n",
    "    return child1, child2"
   ]
  },
  {
   "cell_type": "code",
   "execution_count": 25,
   "metadata": {},
   "outputs": [
    {
     "name": "stdout",
     "output_type": "stream",
     "text": [
      "Child 1 value: 7402\n",
      "Child 2 value: 7402\n"
     ]
    }
   ],
   "source": [
    "num_points = 3\n",
    "\n",
    "child1, child2 = multipoint_crossover(initial_population[0], initial_population[1], num_points)\n",
    "child1_value = evaluate_value(child1)\n",
    "child2_value = evaluate_value(child2)\n",
    "\n",
    "print(\"Child 1 value:\", child1_value)\n",
    "print(\"Child 2 value:\", child2_value)"
   ]
  },
  {
   "cell_type": "markdown",
   "metadata": {},
   "source": [
    "Note: both tournament_selection and multiple_point_crossover get to the same solutions and values. This is because we are generating the random solution in a greedy way: if on one side guarantees a good solution, choosing all the items with the best profit until capacity is reached, on the other hand it gets always to the same solution. In this instance, we keep using the greedy selection because we count on improving that throughout further improvements in our genetic algorithm."
   ]
  },
  {
   "cell_type": "code",
   "execution_count": 26,
   "metadata": {},
   "outputs": [],
   "source": [
    "def genetic_algorithm(n, res, cap, population_size, num_generations, crossover_points, mutation_rate):\n",
    "    \"\"\"\n",
    "    Genetic algorithm implementation \n",
    "\n",
    "    n: items\n",
    "    res: consumption matrix\n",
    "    cap: knapsacks\n",
    "    population_size: size of the population\n",
    "    num_generations: number of generations to evolve\n",
    "    crossover_points: number of points to use in crossover\n",
    "    mutation_rate: probability of mutation per individual\n",
    "    return: The best solution found and its value\n",
    "    \"\"\"\n",
    "    population = create_population(population_size, n, res, cap)\n",
    "\n",
    "    evaluated_population = [(individual, evaluate_value(individual)) for individual in population]\n",
    "    for _ in range(num_generations):\n",
    "        new_population = []\n",
    "\n",
    "        # for each new generation round\n",
    "        while len(new_population) < population_size:\n",
    "            \n",
    "            # tournament\n",
    "            parent1 = tournament_selection(evaluated_population, k, selection_pressure)\n",
    "            parent2 = tournament_selection(evaluated_population, k, selection_pressure)\n",
    "\n",
    "            # crossover\n",
    "            child1, child2 = multipoint_crossover(parent1[0], parent2[0], crossover_points)\n",
    "\n",
    "            # mutate\n",
    "            if rnd.random() < mutation_rate:\n",
    "                child1 = mutate(child1, mutation_rate, 0, 2)\n",
    "            if rnd.random() < mutation_rate:\n",
    "                child2 = mutate(child2, mutation_rate, 0, 2)\n",
    "\n",
    "            # check children validity and add to population\n",
    "            if is_valid_solution(child1, res, cap):\n",
    "                new_population.append((child1, evaluate_value(child1)))\n",
    "            if is_valid_solution(child2, res, cap) and len(new_population) < population_size:\n",
    "                new_population.append((child2, evaluate_value(child2)))\n",
    "\n",
    "        # generational chage\n",
    "        evaluated_population = new_population\n",
    "\n",
    "    best_solution = max(evaluated_population, key=lambda individual: individual[1])\n",
    "    return best_solution"
   ]
  },
  {
   "cell_type": "code",
   "execution_count": 27,
   "metadata": {},
   "outputs": [
    {
     "name": "stdout",
     "output_type": "stream",
     "text": [
      "Best Solution: [0, 1, 0, 0, 1, 0, 1, 1, 0, 1, 0, 0, 1, 0, 0, 1, 0, 1, 1, 1, 0, 0, 0, 0, 1, 0, 0, 1, 0, 1, 1, 1, 0, 1, 1, 0, 1, 0, 0, 0, 0, 0, 1, 0, 1, 1, 1, 1, 1, 0, 0, 1, 1, 0, 0, 0, 1, 1, 0, 1, 1, 0, 0, 0, 1, 1, 0, 0, 1, 0, 0, 0, 0, 1, 1, 1, 0, 0, 0, 1, 0, 0, 1, 0, 1, 1, 1, 0, 0, 1, 1, 0, 1, 1, 0, 0, 1, 0, 1, 0, 1, 1, 0, 1, 1, 1, 1, 0, 0, 0, 0, 1, 0, 0, 1, 0, 1, 0, 1, 1, 1, 1, 1, 0, 1, 0, 1, 1, 0, 1, 1, 0, 0, 0, 0, 0, 0, 1, 1, 0, 1, 1, 1, 1, 0, 1, 0, 0, 1, 1, 0, 1, 0, 1, 0, 1, 0, 1, 0, 1, 0, 1, 1, 0, 0, 0, 0, 1, 0, 1, 1, 1, 1, 0, 0, 1, 1, 0, 1, 1, 1, 0, 1, 1, 1, 1, 1, 0, 1, 0, 0, 1, 1, 0, 1, 1, 1, 0, 1, 0]\n",
      "Best Solution Value: 7430\n"
     ]
    }
   ],
   "source": [
    "best_solution = genetic_algorithm(n, res, cap, population_size=100, num_generations=50, \n",
    "    crossover_points=3, mutation_rate=0.02)\n",
    "\n",
    "print(\"Best Solution:\", best_solution[0])\n",
    "print(\"Best Solution Value:\", best_solution[1])"
   ]
  },
  {
   "cell_type": "markdown",
   "metadata": {},
   "source": [
    "## Part 3"
   ]
  },
  {
   "cell_type": "markdown",
   "metadata": {},
   "source": [
    "### Performance Comparison\n",
    "For the next section, we will perfom some experiments on the genetic algorithm, modifying some parameters to discover how these changes affect its performance.\n",
    "\n",
    "The variations we will consider are:\n",
    "\n",
    "- Different Mutation Rates\n",
    "- Different Number of Crossover Points: GA with single-point crossover and GA with multiple-point crossover. Having multiple crossover points guarantees more diveristy in the solutions found, even though with slower convergence rate. \n",
    "- Tournament selection with different k and selection_pressure\n",
    "    \n",
    "In order to guarantee a fair comparison between differents version of the algorithm, we had to guarantee that they will run for the same number of iterations. Because of the stochastic nature of the algorithms, the number of iterations we'll choose will be any number greater than 10 and they will run from the same initial population, to ensure consistency."
   ]
  },
  {
   "cell_type": "code",
   "execution_count": 28,
   "metadata": {},
   "outputs": [],
   "source": [
    "population_size = 100\n",
    "num_generations = 50\n",
    "num_runs = 10\n",
    "\n",
    "population = create_population(population_size, n, res, cap)"
   ]
  },
  {
   "cell_type": "markdown",
   "metadata": {},
   "source": [
    "### Comparing hyper-parameters"
   ]
  },
  {
   "cell_type": "markdown",
   "metadata": {},
   "source": [
    "The genetic agorithm will be modified to return not just one best solution, but a list of all the best values found for each generation. It also takes some extra parameters and doesn't caluclate the population inside it, so that the analysis we will perform later will be performed on the same population."
   ]
  },
  {
   "cell_type": "code",
   "execution_count": 29,
   "metadata": {},
   "outputs": [],
   "source": [
    "def genetic_algorithm_variant(n, res, cap, population_size, num_generations, crossover_points, mutation_rate, population, k, selection_pressure):\n",
    "    best_values = []\n",
    "\n",
    "    for _ in range(num_generations):\n",
    "        new_population = []\n",
    "        while len(new_population) < population_size:\n",
    "            # tournament\n",
    "            parent1 = tournament_selection(population, k, selection_pressure)\n",
    "            parent2 = tournament_selection(population, k, selection_pressure)\n",
    "            \n",
    "            # crossover\n",
    "            child1, child2 = multipoint_crossover(parent1, parent2, crossover_points)\n",
    "\n",
    "            # mutation\n",
    "            if rnd.random() < mutation_rate:\n",
    "                child1 = mutate(child1, mutation_rate, 0, 2)\n",
    "            if rnd.random() < mutation_rate:\n",
    "                child2 = mutate(child2, mutation_rate, 0, 2)\n",
    "\n",
    "            # check and add children\n",
    "            if is_valid_solution(child1, res, cap):\n",
    "                new_population.append(child1)\n",
    "            if is_valid_solution(child2, res, cap) and len(new_population) < population_size:\n",
    "                new_population.append(child2)\n",
    "\n",
    "        population = new_population\n",
    "        best_solution = max(population, key=lambda individual: evaluate_value(individual))\n",
    "        best_values.append(evaluate_value(best_solution))\n",
    "\n",
    "    return best_values"
   ]
  },
  {
   "cell_type": "markdown",
   "metadata": {},
   "source": [
    "### Different Mutation Rates"
   ]
  },
  {
   "cell_type": "markdown",
   "metadata": {},
   "source": [
    "Variant A - Genetic Algorithm with Low Mutation Rate (0.02) vs Variant B - Genetic Algorithm with High Mutation Rate (0.05)"
   ]
  },
  {
   "cell_type": "code",
   "execution_count": 30,
   "metadata": {},
   "outputs": [],
   "source": [
    "mutation_rate_a = 0.02\n",
    "mutation_rate_b = 0.05\n",
    "\n",
    "# same number of crossover points\n",
    "crossover_points = 3\n",
    "\n",
    "# values for tournament selection\n",
    "k = 3\n",
    "selection_pressure = 3.0\n",
    "\n",
    "results_a = []\n",
    "results_b = []"
   ]
  },
  {
   "cell_type": "code",
   "execution_count": 31,
   "metadata": {},
   "outputs": [],
   "source": [
    "for _ in range(num_runs):\n",
    "    best_values_a = genetic_algorithm_variant(n, res, cap, population_size, num_generations, crossover_points, mutation_rate_a, population, k, selection_pressure)\n",
    "    best_values_b = genetic_algorithm_variant(n, res, cap, population_size, num_generations, crossover_points, mutation_rate_b, population, k, selection_pressure)\n",
    "    results_a.append(max(best_values_a))\n",
    "    results_b.append(max(best_values_b))"
   ]
  },
  {
   "cell_type": "markdown",
   "metadata": {},
   "source": [
    "Now we will calculate the average performance with average best solution value and variability with standard deviation."
   ]
  },
  {
   "cell_type": "code",
   "execution_count": 32,
   "metadata": {},
   "outputs": [],
   "source": [
    "average_a = np.mean(results_a)\n",
    "std_dev_a = np.std(results_a)\n",
    "average_b = np.mean(results_b)\n",
    "std_dev_b = np.std(results_b)"
   ]
  },
  {
   "cell_type": "markdown",
   "metadata": {},
   "source": [
    "#### Numerical Results"
   ]
  },
  {
   "cell_type": "code",
   "execution_count": 33,
   "metadata": {},
   "outputs": [
    {
     "name": "stdout",
     "output_type": "stream",
     "text": [
      "Variant A - Average Best Solution Value: 7430.8, Standard Deviation: 5.4552726787943415\n",
      "Variant B - Average Best Solution Value: 7436.0, Standard Deviation: 7.54983443527075\n"
     ]
    }
   ],
   "source": [
    "print(f\"Variant A - Average Best Solution Value: {average_a}, Standard Deviation: {std_dev_a}\")\n",
    "print(f\"Variant B - Average Best Solution Value: {average_b}, Standard Deviation: {std_dev_b}\")"
   ]
  },
  {
   "cell_type": "markdown",
   "metadata": {},
   "source": [
    "#### Box Plots"
   ]
  },
  {
   "cell_type": "code",
   "execution_count": 34,
   "metadata": {},
   "outputs": [
    {
     "data": {
      "image/png": "[encoded data removed]",
      "text/plain": [
       "<Figure size 640x480 with 1 Axes>"
      ]
     },
     "metadata": {},
     "output_type": "display_data"
    }
   ],
   "source": [
    "plt.boxplot([results_a, results_b], labels=['Variant A', 'Variant B'])\n",
    "plt.title('Performance Comparison of GAs with Different Mutation Rates ')\n",
    "plt.ylabel('Best Solution Value')\n",
    "plt.show()"
   ]
  },
  {
   "cell_type": "markdown",
   "metadata": {},
   "source": [
    "Changing the mutation rate, we can increase or decrease the area in which we search for solutions and try to find a balance between exploration an exploitation. Usually, a lower mutation rate can increase the risk of getting stuck into local optima, since the solutions exlored don't vary much from each other. \n",
    "Observing the above data, we can conclude that a higher mutation as in Variant B leads to both the discovery of more valuable solutions. It also provides more consistent results (lower standard deviation), since it has less chances of getting stuck into local optima and therefore leading to less variability in the quality of the solutions. These are the reasons that in this instance make Variant B a more valuable choice rather than Variant A.\n",
    "\n",
    "(Note: Because of the reliance on random process of the algorithms, there could be different outcomes for each run, therefore not matching the above description.\n",
    "Results I am currently observing are: \n",
    "Variant A - Average Best Solution Value: 7428.9, Standard Deviation: 8.34805366537614\n",
    "Variant B - Average Best Solution Value: 7441.5, Standard Deviation: 8.028075734570521)"
   ]
  },
  {
   "cell_type": "markdown",
   "metadata": {},
   "source": [
    "### Different Number of Crossover Points"
   ]
  },
  {
   "cell_type": "markdown",
   "metadata": {},
   "source": [
    "Comparison between single-point crossover (Variant A) and multiple-point crossover (Variant B)"
   ]
  },
  {
   "cell_type": "code",
   "execution_count": 35,
   "metadata": {},
   "outputs": [],
   "source": [
    "# same mutation rate\n",
    "mutation_rate = 0.05\n",
    "\n",
    "crossover_points_a = 1\n",
    "crossover_points_b = 3\n",
    "\n",
    "# values for tournament selection\n",
    "k = 3\n",
    "selection_pressure = 3.0\n",
    "\n",
    "results_a = []\n",
    "results_b = []"
   ]
  },
  {
   "cell_type": "code",
   "execution_count": 36,
   "metadata": {},
   "outputs": [],
   "source": [
    "for _ in range(num_runs):\n",
    "    best_values_a = genetic_algorithm_variant(n, res, cap, population_size, num_generations, crossover_points_a, mutation_rate, population, k, selection_pressure)\n",
    "    best_values_b = genetic_algorithm_variant(n, res, cap, population_size, num_generations, crossover_points_b, mutation_rate, population, k, selection_pressure)\n",
    "    results_a.append(max(best_values_a))\n",
    "    results_b.append(max(best_values_b))"
   ]
  },
  {
   "cell_type": "code",
   "execution_count": 37,
   "metadata": {},
   "outputs": [],
   "source": [
    "average_a = np.mean(results_a)\n",
    "std_dev_a = np.std(results_a)\n",
    "average_b = np.mean(results_b)\n",
    "std_dev_b = np.std(results_b)"
   ]
  },
  {
   "cell_type": "markdown",
   "metadata": {},
   "source": [
    "#### Numerical Results"
   ]
  },
  {
   "cell_type": "code",
   "execution_count": 38,
   "metadata": {
    "scrolled": true
   },
   "outputs": [
    {
     "name": "stdout",
     "output_type": "stream",
     "text": [
      "Variant A - Average Best Solution Value: 7443.1, Standard Deviation: 8.030566605165541\n",
      "Variant B - Average Best Solution Value: 7441.9, Standard Deviation: 10.41585330157832\n"
     ]
    }
   ],
   "source": [
    "print(f\"Variant A - Average Best Solution Value: {average_a}, Standard Deviation: {std_dev_a}\")\n",
    "print(f\"Variant B - Average Best Solution Value: {average_b}, Standard Deviation: {std_dev_b}\")"
   ]
  },
  {
   "cell_type": "markdown",
   "metadata": {},
   "source": [
    "#### Box Plots"
   ]
  },
  {
   "cell_type": "code",
   "execution_count": 39,
   "metadata": {},
   "outputs": [
    {
     "data": {
      "image/png": "[encoded data removed]",
      "text/plain": [
       "<Figure size 640x480 with 1 Axes>"
      ]
     },
     "metadata": {},
     "output_type": "display_data"
    }
   ],
   "source": [
    "plt.boxplot([results_a, results_b], labels=['Variant A', 'Variant B'])\n",
    "plt.title('Performance Comparison of GAs with Different Number of Crossover Points')\n",
    "plt.ylabel('Best Solution Value')\n",
    "plt.show()"
   ]
  },
  {
   "cell_type": "markdown",
   "metadata": {},
   "source": [
    "The plots show a slightly better average best solution for Variant B, but since the results of multiple-crossover points are more varied, it has a higher standard deviation than Variant A. On the other hand, Variant A has worse average best solution, but a lower standard deviation.\n",
    "The choice between the two variants depends on whether the goal is to get the highest solution quality (Variant B), or to preserve consistency to have more preditable solutions (Variant A).\n",
    "\n",
    "(Results I am looking at: Variant A - Average Best Solution Value: 7436.9, Standard Deviation: 10.319399207318225\n",
    "Variant B - Average Best Solution Value: 7438.8, Standard Deviation: 14.668333238647124)"
   ]
  },
  {
   "cell_type": "markdown",
   "metadata": {},
   "source": [
    "### Tournament selection with different k and selection_pressure "
   ]
  },
  {
   "cell_type": "markdown",
   "metadata": {},
   "source": [
    "Changing the K and selection_pressure parameters affect the decision on how solutions are selected in the tournament selection. Having K and selection_pressure lower means that we will have tournaments that are less competitive and will allow also to the weaker solutions to be selected. This approach can be convenient because being less strict in the solutions chosen allows more genetic diversity. A higher K ad selection_pressure, however, would make the tournament more competitive to favour just the fittest individuals but likely increasing the risk to get into a premature convergence.\n"
   ]
  },
  {
   "cell_type": "code",
   "execution_count": 40,
   "metadata": {},
   "outputs": [],
   "source": [
    "# same mutation rate and crossover points\n",
    "mutation_rate = 0.05\n",
    "crossover_points = 3\n",
    "\n",
    "# variant a - values for tournament selection\n",
    "k_a = 3\n",
    "selection_pressure_a = 3.0\n",
    "\n",
    "# variant b - values for tournament selection\n",
    "k_b = 5\n",
    "selection_pressure_b = 4.0\n",
    "\n",
    "results_a = []\n",
    "results_b = []"
   ]
  },
  {
   "cell_type": "code",
   "execution_count": 41,
   "metadata": {},
   "outputs": [],
   "source": [
    "for _ in range(num_runs):\n",
    "    best_values_a = genetic_algorithm_variant(n, res, cap, population_size, num_generations, crossover_points_a, mutation_rate, population, k_a, selection_pressure_a)\n",
    "    best_values_b = genetic_algorithm_variant(n, res, cap, population_size, num_generations, crossover_points_b, mutation_rate, population, k_b, selection_pressure_b)\n",
    "    results_a.append(max(best_values_a))\n",
    "    results_b.append(max(best_values_b))"
   ]
  },
  {
   "cell_type": "code",
   "execution_count": 42,
   "metadata": {},
   "outputs": [],
   "source": [
    "average_a = np.mean(results_a)\n",
    "std_dev_a = np.std(results_a)\n",
    "average_b = np.mean(results_b)\n",
    "std_dev_b = np.std(results_b)"
   ]
  },
  {
   "cell_type": "code",
   "execution_count": 43,
   "metadata": {},
   "outputs": [
    {
     "name": "stdout",
     "output_type": "stream",
     "text": [
      "Variant A - Average Best Solution Value: 7437.3, Standard Deviation: 5.933801479658718\n",
      "Variant B - Average Best Solution Value: 7437.0, Standard Deviation: 7.14142842854285\n"
     ]
    }
   ],
   "source": [
    "print(f\"Variant A - Average Best Solution Value: {average_a}, Standard Deviation: {std_dev_a}\")\n",
    "print(f\"Variant B - Average Best Solution Value: {average_b}, Standard Deviation: {std_dev_b}\")"
   ]
  },
  {
   "cell_type": "code",
   "execution_count": 44,
   "metadata": {},
   "outputs": [
    {
     "data": {
      "image/png": "[encoded data removed]",
      "text/plain": [
       "<Figure size 640x480 with 1 Axes>"
      ]
     },
     "metadata": {},
     "output_type": "display_data"
    }
   ],
   "source": [
    "plt.boxplot([results_a, results_b], labels=['Variant A', 'Variant B'])\n",
    "plt.title('Performance Comparison of GAs with Different K and selection_pressure for Tournament selection')\n",
    "plt.ylabel('Best Solution Value')\n",
    "plt.show()"
   ]
  },
  {
   "cell_type": "markdown",
   "metadata": {},
   "source": [
    "Observing the results, (results I obtained: Variant A - 7418.3, Standard Deviation: 14.825990692024599\n",
    "Variant B -  7438.3, Standard Deviation: 9.033825324855467) we can conclude that B seems a more favorable options, since it provides better consisteny and performance."
   ]
  }
 ],
 "metadata": {
  "kernelspec": {
   "display_name": "Python 3 (ipykernel)",
   "language": "python",
   "name": "python3"
  },
  "language_info": {
   "codemirror_mode": {
    "name": "ipython",
    "version": 3
   },
   "file_extension": ".py",
   "mimetype": "text/x-python",
   "name": "python",
   "nbconvert_exporter": "python",
   "pygments_lexer": "ipython3",
   "version": "3.11.4"
  },
  "vscode": {
   "interpreter": {
    "hash": "cd844c78e6ad96aaf4713ea15b69e294556c54f38bf0be6fc264fe75595d01ff"
   }
  }
 },
 "nbformat": 4,
 "nbformat_minor": 4
}
